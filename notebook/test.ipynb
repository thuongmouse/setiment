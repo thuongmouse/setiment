{
 "cells": [
  {
   "cell_type": "code",
   "execution_count": 1,
   "metadata": {},
   "outputs": [
    {
     "name": "stdout",
     "output_type": "stream",
     "text": [
      "/home/thuongpt/setiment\n"
     ]
    }
   ],
   "source": [
    "%cd /home/thuongpt/setiment/\n",
    "# !pip install keras\n",
    "# !pip install tensorflow"
   ]
  },
  {
   "cell_type": "code",
   "execution_count": 2,
   "metadata": {},
   "outputs": [
    {
     "name": "stdout",
     "output_type": "stream",
     "text": [
      "\u001b[0m\u001b[01;34mdata\u001b[0m/      file.csv   test.py\n",
      "data.json  \u001b[01;34mnotebook\u001b[0m/  word2vec_vi_syllables_100dims.txt\n"
     ]
    }
   ],
   "source": [
    "%ls\n"
   ]
  },
  {
   "cell_type": "markdown",
   "metadata": {},
   "source": [
    "## Load data"
   ]
  },
  {
   "cell_type": "code",
   "execution_count": 3,
   "metadata": {},
   "outputs": [],
   "source": [
    "import os\n",
    "import glob\n",
    "import pandas as pd\n",
    "from tqdm import tqdm\n",
    "import numpy as np"
   ]
  },
  {
   "cell_type": "code",
   "execution_count": 4,
   "metadata": {},
   "outputs": [],
   "source": [
    "\n",
    "# Specify the base directory\n",
    "base_directory = '/home/thuongpt/setiment/data/Data_not_token/Fold_'\n",
    "\n",
    "# Create two empty lists for storing the training and testing data\n",
    "train_data = []\n",
    "test_data = []\n",
    "\n",
    "# Loop over each Fold directory\n",
    "for i in range(1, 6):\n",
    "    directory = base_directory + str(i)\n",
    "\n",
    "    # Loop over each txt file in the directory\n",
    "    for filepath in glob.glob(os.path.join(directory, '*.txt')):\n",
    "        # Extract the filename from the filepath\n",
    "        filename = os.path.basename(filepath)\n",
    "\n",
    "        # Check if the filename contains 'train' or 'test', and ends with a number from 0 to 2\n",
    "        if 'train_nhan_0' in filename:\n",
    "            label = 0\n",
    "            dataset_type = 'train'\n",
    "        elif 'train_nhan_1' in filename:\n",
    "            label = 1\n",
    "            dataset_type = 'train'\n",
    "        elif 'train_nhan_2' in filename:\n",
    "            label = 2\n",
    "            dataset_type = 'train'\n",
    "        elif 'test_nhan_0' in filename:\n",
    "            label = 0\n",
    "            dataset_type = 'test'\n",
    "        elif 'test_nhan_1' in filename:\n",
    "            label = 1\n",
    "            dataset_type = 'test'\n",
    "        elif 'test_nhan_2' in filename:\n",
    "            label = 2\n",
    "            dataset_type = 'test'\n",
    "        else:\n",
    "            continue  # Skip files that don't match the conditions\n",
    "\n",
    "        # Open each file and read its content line by line\n",
    "        with open(filepath, 'r') as file:\n",
    "            lines = file.readlines()\n",
    "\n",
    "        # Loop over each line in the file\n",
    "        for line in lines:\n",
    "            # Append the line, label, and dataset type to the appropriate list\n",
    "            if dataset_type == 'train':\n",
    "                train_data.append([line.strip(), label])\n",
    "            else:\n",
    "                test_data.append([line.strip(), label])\n",
    "\n",
    "# Convert the lists to DataFrames and save them to CSV files\n",
    "train_df = pd.DataFrame(train_data, columns=['content', 'label'])\n",
    "train_df.to_csv('/home/thuongpt/setiment/data/train.csv', index=False)\n",
    "\n",
    "test_df = pd.DataFrame(test_data, columns=['content', 'label'])\n",
    "test_df.to_csv('/home/thuongpt/setiment/data/test.csv', index=False)"
   ]
  },
  {
   "cell_type": "code",
   "execution_count": 5,
   "metadata": {},
   "outputs": [
    {
     "data": {
      "text/html": [
       "<div>\n",
       "<style scoped>\n",
       "    .dataframe tbody tr th:only-of-type {\n",
       "        vertical-align: middle;\n",
       "    }\n",
       "\n",
       "    .dataframe tbody tr th {\n",
       "        vertical-align: top;\n",
       "    }\n",
       "\n",
       "    .dataframe thead th {\n",
       "        text-align: right;\n",
       "    }\n",
       "</style>\n",
       "<table border=\"1\" class=\"dataframe\">\n",
       "  <thead>\n",
       "    <tr style=\"text-align: right;\">\n",
       "      <th></th>\n",
       "      <th>content</th>\n",
       "      <th>label</th>\n",
       "    </tr>\n",
       "  </thead>\n",
       "  <tbody>\n",
       "    <tr>\n",
       "      <th>0</th>\n",
       "      <td>﻿Cặp ok  chất liệu khá tốt   giá hợp lí... Thí...</td>\n",
       "      <td>2</td>\n",
       "    </tr>\n",
       "    <tr>\n",
       "      <th>1</th>\n",
       "      <td>nhìn trong hình mỏng nhưng mà thật thì hơi dày...</td>\n",
       "      <td>2</td>\n",
       "    </tr>\n",
       "    <tr>\n",
       "      <th>2</th>\n",
       "      <td>Toi su dung Gel gan 2 tuan nhung chua thay tac...</td>\n",
       "      <td>2</td>\n",
       "    </tr>\n",
       "    <tr>\n",
       "      <th>3</th>\n",
       "      <td>Tôi mua giùm nên không biết như thế nào</td>\n",
       "      <td>2</td>\n",
       "    </tr>\n",
       "    <tr>\n",
       "      <th>4</th>\n",
       "      <td>Âm thanh rất tốt kết nối ổn định cự ly kết nối...</td>\n",
       "      <td>2</td>\n",
       "    </tr>\n",
       "  </tbody>\n",
       "</table>\n",
       "</div>"
      ],
      "text/plain": [
       "                                             content  label\n",
       "0  ﻿Cặp ok  chất liệu khá tốt   giá hợp lí... Thí...      2\n",
       "1  nhìn trong hình mỏng nhưng mà thật thì hơi dày...      2\n",
       "2  Toi su dung Gel gan 2 tuan nhung chua thay tac...      2\n",
       "3            Tôi mua giùm nên không biết như thế nào      2\n",
       "4  Âm thanh rất tốt kết nối ổn định cự ly kết nối...      2"
      ]
     },
     "execution_count": 5,
     "metadata": {},
     "output_type": "execute_result"
    }
   ],
   "source": [
    "train_data = pd.read_csv(\"/home/thuongpt/setiment/data/train.csv\")\n",
    "train_data.head()"
   ]
  },
  {
   "cell_type": "code",
   "execution_count": 6,
   "metadata": {},
   "outputs": [
    {
     "name": "stdout",
     "output_type": "stream",
     "text": [
      "label\n",
      "1    23952\n",
      "0    23756\n",
      "2    22292\n",
      "Name: count, dtype: int64\n"
     ]
    }
   ],
   "source": [
    "true_count = train_data[\"label\"].value_counts()\n",
    "print(true_count)"
   ]
  },
  {
   "cell_type": "code",
   "execution_count": 7,
   "metadata": {},
   "outputs": [
    {
     "name": "stdout",
     "output_type": "stream",
     "text": [
      "<class 'pandas.core.frame.DataFrame'>\n",
      "RangeIndex: 70000 entries, 0 to 69999\n",
      "Data columns (total 2 columns):\n",
      " #   Column   Non-Null Count  Dtype \n",
      "---  ------   --------------  ----- \n",
      " 0   content  70000 non-null  object\n",
      " 1   label    70000 non-null  int64 \n",
      "dtypes: int64(1), object(1)\n",
      "memory usage: 1.1+ MB\n"
     ]
    }
   ],
   "source": [
    "train_data.info()"
   ]
  },
  {
   "cell_type": "code",
   "execution_count": 8,
   "metadata": {},
   "outputs": [
    {
     "data": {
      "text/html": [
       "<div>\n",
       "<style scoped>\n",
       "    .dataframe tbody tr th:only-of-type {\n",
       "        vertical-align: middle;\n",
       "    }\n",
       "\n",
       "    .dataframe tbody tr th {\n",
       "        vertical-align: top;\n",
       "    }\n",
       "\n",
       "    .dataframe thead th {\n",
       "        text-align: right;\n",
       "    }\n",
       "</style>\n",
       "<table border=\"1\" class=\"dataframe\">\n",
       "  <thead>\n",
       "    <tr style=\"text-align: right;\">\n",
       "      <th></th>\n",
       "      <th>content</th>\n",
       "      <th>label</th>\n",
       "    </tr>\n",
       "  </thead>\n",
       "  <tbody>\n",
       "    <tr>\n",
       "      <th>0</th>\n",
       "      <td>﻿mình thấy sản phẩm này hợp với da dầu  da khô...</td>\n",
       "      <td>1</td>\n",
       "    </tr>\n",
       "    <tr>\n",
       "      <th>1</th>\n",
       "      <td>Sản phẩm chất lượng tốt</td>\n",
       "      <td>1</td>\n",
       "    </tr>\n",
       "    <tr>\n",
       "      <th>2</th>\n",
       "      <td>Sp tốt  giá rẻ.</td>\n",
       "      <td>1</td>\n",
       "    </tr>\n",
       "    <tr>\n",
       "      <th>3</th>\n",
       "      <td>sản phẩm chất lượng và giá tốt  nói chung tôi ...</td>\n",
       "      <td>1</td>\n",
       "    </tr>\n",
       "    <tr>\n",
       "      <th>4</th>\n",
       "      <td>Chất thô  hoa văn đẹp</td>\n",
       "      <td>1</td>\n",
       "    </tr>\n",
       "  </tbody>\n",
       "</table>\n",
       "</div>"
      ],
      "text/plain": [
       "                                             content  label\n",
       "0  ﻿mình thấy sản phẩm này hợp với da dầu  da khô...      1\n",
       "1                            Sản phẩm chất lượng tốt      1\n",
       "2                                    Sp tốt  giá rẻ.      1\n",
       "3  sản phẩm chất lượng và giá tốt  nói chung tôi ...      1\n",
       "4                            Chất thô  hoa văn đẹp      1"
      ]
     },
     "execution_count": 8,
     "metadata": {},
     "output_type": "execute_result"
    }
   ],
   "source": [
    "test_data = pd.read_csv(\"/home/thuongpt/setiment/data/test.csv\")    \n",
    "test_data.head()"
   ]
  },
  {
   "cell_type": "code",
   "execution_count": 9,
   "metadata": {},
   "outputs": [
    {
     "name": "stdout",
     "output_type": "stream",
     "text": [
      "label\n",
      "1    5988\n",
      "0    5939\n",
      "2    5573\n",
      "Name: count, dtype: int64\n"
     ]
    }
   ],
   "source": [
    "true_count = test_data[\"label\"].value_counts()\n",
    "print(true_count)"
   ]
  },
  {
   "cell_type": "code",
   "execution_count": 10,
   "metadata": {},
   "outputs": [
    {
     "name": "stdout",
     "output_type": "stream",
     "text": [
      "<class 'pandas.core.frame.DataFrame'>\n",
      "RangeIndex: 17500 entries, 0 to 17499\n",
      "Data columns (total 2 columns):\n",
      " #   Column   Non-Null Count  Dtype \n",
      "---  ------   --------------  ----- \n",
      " 0   content  17500 non-null  object\n",
      " 1   label    17500 non-null  int64 \n",
      "dtypes: int64(1), object(1)\n",
      "memory usage: 273.6+ KB\n"
     ]
    }
   ],
   "source": [
    "test_data.info()"
   ]
  },
  {
   "cell_type": "code",
   "execution_count": 11,
   "metadata": {},
   "outputs": [
    {
     "data": {
      "text/html": [
       "<div>\n",
       "<style scoped>\n",
       "    .dataframe tbody tr th:only-of-type {\n",
       "        vertical-align: middle;\n",
       "    }\n",
       "\n",
       "    .dataframe tbody tr th {\n",
       "        vertical-align: top;\n",
       "    }\n",
       "\n",
       "    .dataframe thead th {\n",
       "        text-align: right;\n",
       "    }\n",
       "</style>\n",
       "<table border=\"1\" class=\"dataframe\">\n",
       "  <thead>\n",
       "    <tr style=\"text-align: right;\">\n",
       "      <th></th>\n",
       "      <th>title</th>\n",
       "      <th>label</th>\n",
       "    </tr>\n",
       "  </thead>\n",
       "  <tbody>\n",
       "    <tr>\n",
       "      <th>0</th>\n",
       "      <td>\"Huyện Yên Bình biểu dương, tôn vinh điển hình...</td>\n",
       "      <td>0</td>\n",
       "    </tr>\n",
       "    <tr>\n",
       "      <th>1</th>\n",
       "      <td>Danh sách những mẫu smartphone Samsung Galaxy ...</td>\n",
       "      <td>2</td>\n",
       "    </tr>\n",
       "    <tr>\n",
       "      <th>2</th>\n",
       "      <td>\"Kinh tế suy thoái, doanh thu của Lenovo giảm ...</td>\n",
       "      <td>2</td>\n",
       "    </tr>\n",
       "    <tr>\n",
       "      <th>3</th>\n",
       "      <td>\"Tin vui, cuối cùng thì iPhone 15 Series cũng ...</td>\n",
       "      <td>0</td>\n",
       "    </tr>\n",
       "    <tr>\n",
       "      <th>4</th>\n",
       "      <td>Nhận ngay 2 tựa game trị giá 424.000 VNĐ đang ...</td>\n",
       "      <td>0</td>\n",
       "    </tr>\n",
       "  </tbody>\n",
       "</table>\n",
       "</div>"
      ],
      "text/plain": [
       "                                               title  label\n",
       "0  \"Huyện Yên Bình biểu dương, tôn vinh điển hình...      0\n",
       "1  Danh sách những mẫu smartphone Samsung Galaxy ...      2\n",
       "2  \"Kinh tế suy thoái, doanh thu của Lenovo giảm ...      2\n",
       "3  \"Tin vui, cuối cùng thì iPhone 15 Series cũng ...      0\n",
       "4  Nhận ngay 2 tựa game trị giá 424.000 VNĐ đang ...      0"
      ]
     },
     "execution_count": 11,
     "metadata": {},
     "output_type": "execute_result"
    }
   ],
   "source": [
    "data_test = pd.read_excel(\"/home/thuongpt/setiment/data/Book1.xlsx\")\n",
    "data_test.head()"
   ]
  },
  {
   "cell_type": "code",
   "execution_count": 37,
   "metadata": {},
   "outputs": [
    {
     "name": "stdout",
     "output_type": "stream",
     "text": [
      "<class 'pandas.core.frame.DataFrame'>\n",
      "RangeIndex: 244 entries, 0 to 243\n",
      "Data columns (total 3 columns):\n",
      " #   Column              Non-Null Count  Dtype \n",
      "---  ------              --------------  ----- \n",
      " 0   title               244 non-null    object\n",
      " 1   label               244 non-null    int64 \n",
      " 2   preprocessed_title  244 non-null    object\n",
      "dtypes: int64(1), object(2)\n",
      "memory usage: 5.8+ KB\n"
     ]
    }
   ],
   "source": [
    "data_test.info()"
   ]
  },
  {
   "cell_type": "markdown",
   "metadata": {},
   "source": [
    "## Tiền xử lý"
   ]
  },
  {
   "cell_type": "code",
   "execution_count": 12,
   "metadata": {},
   "outputs": [],
   "source": [
    "# !pip install underthesea"
   ]
  },
  {
   "cell_type": "code",
   "execution_count": 13,
   "metadata": {},
   "outputs": [],
   "source": [
    "from underthesea import word_tokenize\n",
    "import string\n"
   ]
  },
  {
   "cell_type": "code",
   "execution_count": 14,
   "metadata": {},
   "outputs": [],
   "source": [
    "with open(\"/home/thuongpt/TextSummation/data/vietnam/vietnamese_stopswword.txt\") as f:\n",
    "  stop_words = f.readlines()\n",
    "stop_words = [text.strip() for text in stop_words]\n"
   ]
  },
  {
   "cell_type": "code",
   "execution_count": 15,
   "metadata": {},
   "outputs": [],
   "source": [
    "def pre_processing(text):\n",
    "  # Bước 1: Chuyển hết sang viết thường\n",
    "  if pd.isnull(text):\n",
    "        return \"\"\n",
    "  text = text.strip()\n",
    "  text = text.lower()\n",
    "\n",
    "  # Bước 2: Loại bỏ các dấu câu, ký tự đặc biệt\n",
    "  text = text.translate(str.maketrans('', '', string.punctuation))\n",
    "\n",
    "  # # Bước 3: Tách từ và loại bỏ stop words\n",
    "  tokens = word_tokenize(text)\n",
    "  tokens = [token for token in tokens if token not in stop_words]\n",
    "\n",
    "  '''\n",
    "  Bước 4 (optional): Loại bỏ thông tin ngày tháng (chuyển số thành token đặc biệt <num>)\n",
    "  do ngày tháng không có ý nghĩa trong việc phân loại tiêu đề báo\n",
    "  '''\n",
    "  for i in range(len(tokens)):\n",
    "    if tokens[i].isnumeric():\n",
    "      tokens[i] = '<num>' # phải có dấu để đánh dấu là token đặc biệt\n",
    "\n",
    "  # Bước 5: Nối lại thành câu\n",
    "  text = ' '.join(tokens)\n",
    "\n",
    "  return text"
   ]
  },
  {
   "cell_type": "code",
   "execution_count": 16,
   "metadata": {},
   "outputs": [
    {
     "name": "stderr",
     "output_type": "stream",
     "text": [
      "100%|██████████| 70000/70000 [03:03<00:00, 382.27it/s]\n"
     ]
    }
   ],
   "source": [
    "for i in tqdm(range(len(train_data))):\n",
    "    train_data.loc[i, \"preprocessed_content\"] = pre_processing(train_data.loc[i, \"content\"])"
   ]
  },
  {
   "cell_type": "code",
   "execution_count": 17,
   "metadata": {},
   "outputs": [
    {
     "name": "stderr",
     "output_type": "stream",
     "text": [
      "100%|██████████| 17500/17500 [00:46<00:00, 376.45it/s]\n"
     ]
    }
   ],
   "source": [
    "for i in tqdm(range(len(test_data))):\n",
    "    test_data.loc[i, \"preprocessed_content\"] = pre_processing(test_data.loc[i, \"content\"])"
   ]
  },
  {
   "cell_type": "code",
   "execution_count": 18,
   "metadata": {},
   "outputs": [
    {
     "name": "stderr",
     "output_type": "stream",
     "text": [
      "100%|██████████| 244/244 [00:00<00:00, 785.47it/s]\n"
     ]
    }
   ],
   "source": [
    "for i in tqdm(range(len(data_test))):\n",
    "    data_test.loc[i, \"preprocessed_title\"] = pre_processing(data_test.loc[i, \"title\"])"
   ]
  },
  {
   "cell_type": "code",
   "execution_count": 19,
   "metadata": {},
   "outputs": [],
   "source": [
    "train_data.to_csv(\"/home/thuongpt/setiment/data/train_data_preprocess.csv\", index=False)\n",
    "test_data.to_csv(\"/home/thuongpt/setiment/data/test_data_preprocess.csv\", index=False)\n",
    "# data.to_csv(\"/home/thuongpt/setiment/data/data_preprocess_setiment.csv\", index=False)"
   ]
  },
  {
   "cell_type": "code",
   "execution_count": 20,
   "metadata": {},
   "outputs": [],
   "source": [
    "train = pd.read_csv(\"/home/thuongpt/setiment/data/train_data_preprocess.csv\")\n",
    "test = pd.read_csv(\"/home/thuongpt/setiment/data/test_data_preprocess.csv\")\n"
   ]
  },
  {
   "cell_type": "code",
   "execution_count": 21,
   "metadata": {},
   "outputs": [
    {
     "data": {
      "text/html": [
       "<div>\n",
       "<style scoped>\n",
       "    .dataframe tbody tr th:only-of-type {\n",
       "        vertical-align: middle;\n",
       "    }\n",
       "\n",
       "    .dataframe tbody tr th {\n",
       "        vertical-align: top;\n",
       "    }\n",
       "\n",
       "    .dataframe thead th {\n",
       "        text-align: right;\n",
       "    }\n",
       "</style>\n",
       "<table border=\"1\" class=\"dataframe\">\n",
       "  <thead>\n",
       "    <tr style=\"text-align: right;\">\n",
       "      <th></th>\n",
       "      <th>content</th>\n",
       "      <th>label</th>\n",
       "      <th>preprocessed_content</th>\n",
       "    </tr>\n",
       "  </thead>\n",
       "  <tbody>\n",
       "    <tr>\n",
       "      <th>0</th>\n",
       "      <td>﻿Cặp ok  chất liệu khá tốt   giá hợp lí... Thí...</td>\n",
       "      <td>2</td>\n",
       "      <td>﻿ cặp ok chất liệu tốt giá hợp lí thích hợp mạ...</td>\n",
       "    </tr>\n",
       "    <tr>\n",
       "      <th>1</th>\n",
       "      <td>nhìn trong hình mỏng nhưng mà thật thì hơi dày...</td>\n",
       "      <td>2</td>\n",
       "      <td>hình mỏng nhưng mà hơi dày đẹp</td>\n",
       "    </tr>\n",
       "    <tr>\n",
       "      <th>2</th>\n",
       "      <td>Toi su dung Gel gan 2 tuan nhung chua thay tac...</td>\n",
       "      <td>2</td>\n",
       "      <td>toi su dung gel gan &lt;num&gt; tuan nhung chua thay...</td>\n",
       "    </tr>\n",
       "    <tr>\n",
       "      <th>3</th>\n",
       "      <td>Tôi mua giùm nên không biết như thế nào</td>\n",
       "      <td>2</td>\n",
       "      <td>mua giùm như thế nào</td>\n",
       "    </tr>\n",
       "    <tr>\n",
       "      <th>4</th>\n",
       "      <td>Âm thanh rất tốt kết nối ổn định cự ly kết nối...</td>\n",
       "      <td>2</td>\n",
       "      <td>âm thanh kết nối ổn định cự ly kết nối pin như...</td>\n",
       "    </tr>\n",
       "  </tbody>\n",
       "</table>\n",
       "</div>"
      ],
      "text/plain": [
       "                                             content  label  \\\n",
       "0  ﻿Cặp ok  chất liệu khá tốt   giá hợp lí... Thí...      2   \n",
       "1  nhìn trong hình mỏng nhưng mà thật thì hơi dày...      2   \n",
       "2  Toi su dung Gel gan 2 tuan nhung chua thay tac...      2   \n",
       "3            Tôi mua giùm nên không biết như thế nào      2   \n",
       "4  Âm thanh rất tốt kết nối ổn định cự ly kết nối...      2   \n",
       "\n",
       "                                preprocessed_content  \n",
       "0  ﻿ cặp ok chất liệu tốt giá hợp lí thích hợp mạ...  \n",
       "1                     hình mỏng nhưng mà hơi dày đẹp  \n",
       "2  toi su dung gel gan <num> tuan nhung chua thay...  \n",
       "3                               mua giùm như thế nào  \n",
       "4  âm thanh kết nối ổn định cự ly kết nối pin như...  "
      ]
     },
     "execution_count": 21,
     "metadata": {},
     "output_type": "execute_result"
    }
   ],
   "source": [
    "train.head()\n"
   ]
  },
  {
   "cell_type": "code",
   "execution_count": 22,
   "metadata": {},
   "outputs": [
    {
     "data": {
      "text/html": [
       "<div>\n",
       "<style scoped>\n",
       "    .dataframe tbody tr th:only-of-type {\n",
       "        vertical-align: middle;\n",
       "    }\n",
       "\n",
       "    .dataframe tbody tr th {\n",
       "        vertical-align: top;\n",
       "    }\n",
       "\n",
       "    .dataframe thead th {\n",
       "        text-align: right;\n",
       "    }\n",
       "</style>\n",
       "<table border=\"1\" class=\"dataframe\">\n",
       "  <thead>\n",
       "    <tr style=\"text-align: right;\">\n",
       "      <th></th>\n",
       "      <th>content</th>\n",
       "      <th>label</th>\n",
       "      <th>preprocessed_content</th>\n",
       "    </tr>\n",
       "  </thead>\n",
       "  <tbody>\n",
       "    <tr>\n",
       "      <th>0</th>\n",
       "      <td>﻿mình thấy sản phẩm này hợp với da dầu  da khô...</td>\n",
       "      <td>1</td>\n",
       "      <td>﻿ sản phẩm hợp da dầu da nhờn cảm giác mịn căn...</td>\n",
       "    </tr>\n",
       "    <tr>\n",
       "      <th>1</th>\n",
       "      <td>Sản phẩm chất lượng tốt</td>\n",
       "      <td>1</td>\n",
       "      <td>sản phẩm chất lượng</td>\n",
       "    </tr>\n",
       "    <tr>\n",
       "      <th>2</th>\n",
       "      <td>Sp tốt  giá rẻ.</td>\n",
       "      <td>1</td>\n",
       "      <td>sp giá rẻ</td>\n",
       "    </tr>\n",
       "    <tr>\n",
       "      <th>3</th>\n",
       "      <td>sản phẩm chất lượng và giá tốt  nói chung tôi ...</td>\n",
       "      <td>1</td>\n",
       "      <td>sản phẩm chất lượng giá nói chung hài lòng</td>\n",
       "    </tr>\n",
       "    <tr>\n",
       "      <th>4</th>\n",
       "      <td>Chất thô  hoa văn đẹp</td>\n",
       "      <td>1</td>\n",
       "      <td>chất thô hoa văn đẹp</td>\n",
       "    </tr>\n",
       "  </tbody>\n",
       "</table>\n",
       "</div>"
      ],
      "text/plain": [
       "                                             content  label  \\\n",
       "0  ﻿mình thấy sản phẩm này hợp với da dầu  da khô...      1   \n",
       "1                            Sản phẩm chất lượng tốt      1   \n",
       "2                                    Sp tốt  giá rẻ.      1   \n",
       "3  sản phẩm chất lượng và giá tốt  nói chung tôi ...      1   \n",
       "4                            Chất thô  hoa văn đẹp      1   \n",
       "\n",
       "                                preprocessed_content  \n",
       "0  ﻿ sản phẩm hợp da dầu da nhờn cảm giác mịn căn...  \n",
       "1                                sản phẩm chất lượng  \n",
       "2                                          sp giá rẻ  \n",
       "3         sản phẩm chất lượng giá nói chung hài lòng  \n",
       "4                               chất thô hoa văn đẹp  "
      ]
     },
     "execution_count": 22,
     "metadata": {},
     "output_type": "execute_result"
    }
   ],
   "source": [
    "test.head()"
   ]
  },
  {
   "cell_type": "code",
   "execution_count": 23,
   "metadata": {},
   "outputs": [],
   "source": [
    "train['preprocessed_content'] = train['preprocessed_content'].fillna('')\n",
    "test['preprocessed_content'] = test['preprocessed_content'].fillna('')"
   ]
  },
  {
   "cell_type": "code",
   "execution_count": 24,
   "metadata": {},
   "outputs": [],
   "source": [
    "data_test['preprocessed_title'] = data_test['preprocessed_title'].fillna('')"
   ]
  },
  {
   "cell_type": "markdown",
   "metadata": {},
   "source": [
    "## Count Vectorization - Bag of Words\n"
   ]
  },
  {
   "cell_type": "code",
   "execution_count": 25,
   "metadata": {},
   "outputs": [
    {
     "name": "stdout",
     "output_type": "stream",
     "text": [
      "X.shape =  (70000, 100)\n",
      "y.shape =  (70000,)\n"
     ]
    }
   ],
   "source": [
    "from sklearn.feature_extraction.text import CountVectorizer\n",
    "y_train = np.array(train.label.values)\n",
    "cv = CountVectorizer(max_features = 100)\n",
    "X_train = cv.fit_transform(train.preprocessed_content).toarray()\n",
    "print(\"X.shape = \",X_train.shape)\n",
    "print(\"y.shape = \",y_train.shape)\n"
   ]
  },
  {
   "cell_type": "code",
   "execution_count": 26,
   "metadata": {},
   "outputs": [
    {
     "name": "stdout",
     "output_type": "stream",
     "text": [
      "X.shape =  (17500, 100)\n",
      "y.shape =  (17500,)\n"
     ]
    }
   ],
   "source": [
    "from sklearn.feature_extraction.text import CountVectorizer\n",
    "y_val = np.array(test.label.values)\n",
    "cv = CountVectorizer(max_features = 100)\n",
    "X_val = cv.fit_transform(test.preprocessed_content).toarray()\n",
    "print(\"X.shape = \",X_val.shape)\n",
    "print(\"y.shape = \",y_val.shape)\n"
   ]
  },
  {
   "cell_type": "code",
   "execution_count": 27,
   "metadata": {},
   "outputs": [
    {
     "name": "stdout",
     "output_type": "stream",
     "text": [
      "X.shape =  (244, 100)\n",
      "y.shape =  (244,)\n"
     ]
    }
   ],
   "source": [
    "from sklearn.feature_extraction.text import CountVectorizer\n",
    "y_test = np.array(data_test.label.values)\n",
    "cv = CountVectorizer(max_features = 100)\n",
    "X_test = cv.fit_transform(data_test.preprocessed_title).toarray()\n",
    "print(\"X.shape = \",X_test.shape)\n",
    "print(\"y.shape = \",y_test.shape)\n"
   ]
  },
  {
   "cell_type": "code",
   "execution_count": 28,
   "metadata": {},
   "outputs": [
    {
     "name": "stdout",
     "output_type": "stream",
     "text": [
      "[[0 1 0 ... 0 0 0]\n",
      " [0 0 0 ... 0 0 0]\n",
      " [0 0 0 ... 0 0 0]\n",
      " ...\n",
      " [0 1 0 ... 0 0 0]\n",
      " [0 0 0 ... 0 0 0]\n",
      " [0 0 0 ... 0 0 0]]\n"
     ]
    }
   ],
   "source": [
    "print(X_test)"
   ]
  },
  {
   "cell_type": "markdown",
   "metadata": {},
   "source": [
    "## Model Machine Learning"
   ]
  },
  {
   "cell_type": "code",
   "execution_count": 29,
   "metadata": {},
   "outputs": [],
   "source": [
    "from sklearn.linear_model import LogisticRegression\n",
    "from sklearn.ensemble import RandomForestClassifier\n",
    "from sklearn.naive_bayes import MultinomialNB, GaussianNB\n",
    "from sklearn.svm import SVC\n",
    "from sklearn.tree import DecisionTreeClassifier\n",
    "from sklearn.neighbors import KNeighborsClassifier\n",
    "from sklearn.multiclass import OneVsRestClassifier\n",
    "from sklearn.metrics import accuracy_score, precision_recall_fscore_support\n",
    "from xgboost import XGBClassifier\n",
    "\n",
    "\n",
    "def run_model(model_name, x_train, y_train, x_test, y_test):\n",
    "    mdl = None\n",
    "\n",
    "    if model_name == 'Logistic Regression':\n",
    "        mdl = LogisticRegression()\n",
    "\n",
    "    elif model_name == 'Random Forest':\n",
    "        mdl = RandomForestClassifier(n_estimators=100, criterion='entropy', random_state=0)\n",
    "\n",
    "    elif model_name == 'Multinomial Naive Bayes':\n",
    "        mdl = MultinomialNB(alpha=1.0, fit_prior=True)\n",
    "\n",
    "    elif model_name == 'Support Vector Classifer':\n",
    "        mdl = SVC()\n",
    "\n",
    "    elif model_name == 'Decision Tree Classifier':\n",
    "        mdl = DecisionTreeClassifier()\n",
    "\n",
    "    elif model_name == 'K Nearest Neighbour':\n",
    "        mdl = KNeighborsClassifier(n_neighbors=10, metric='minkowski', p=4)\n",
    "\n",
    "    elif model_name == 'Gaussian Naive Bayes':\n",
    "        mdl = GaussianNB()\n",
    "    elif model_name == 'XGBoost':\n",
    "        mdl = XGBClassifier()\n",
    "\n",
    "    oneVsRest = OneVsRestClassifier(mdl)\n",
    "    oneVsRest.fit(x_train, y_train)\n",
    "    y_pred = oneVsRest.predict(x_test)\n",
    "\n",
    "    # Performance metrics\n",
    "    accuracy = round(accuracy_score(y_test, y_pred) * 100, 2)\n",
    "\n",
    "    # Get precision, recall, f1 scores\n",
    "    precision, recall, f1score, support = precision_recall_fscore_support(y_test, y_pred, average='micro')\n",
    "\n",
    "    print(f'Test Accuracy Score of Basic {model_name}: % {accuracy}')\n",
    "    print(f'Precision: {precision}')\n",
    "    print(f'Recall: {recall}')\n",
    "    print(f'F1-score: {f1score}')\n",
    "\n",
    "    # Return performance parameters as a dictionary\n",
    "    return {\n",
    "        'Model': model_name,\n",
    "        'Test Accuracy': round(accuracy, 2),\n",
    "        'Precision': round(precision, 2),\n",
    "        'Recall': round(recall, 2),\n",
    "        'F1': round(f1score, 2)\n",
    "    }\n"
   ]
  },
  {
   "cell_type": "markdown",
   "metadata": {},
   "source": [
    "## Train với dữ liệu báo"
   ]
  },
  {
   "cell_type": "markdown",
   "metadata": {},
   "source": [
    "### Mô hình Support Vector Classifer"
   ]
  },
  {
   "cell_type": "code",
   "execution_count": 50,
   "metadata": {},
   "outputs": [
    {
     "data": {
      "text/html": [
       "<style>#sk-container-id-4 {color: black;}#sk-container-id-4 pre{padding: 0;}#sk-container-id-4 div.sk-toggleable {background-color: white;}#sk-container-id-4 label.sk-toggleable__label {cursor: pointer;display: block;width: 100%;margin-bottom: 0;padding: 0.3em;box-sizing: border-box;text-align: center;}#sk-container-id-4 label.sk-toggleable__label-arrow:before {content: \"▸\";float: left;margin-right: 0.25em;color: #696969;}#sk-container-id-4 label.sk-toggleable__label-arrow:hover:before {color: black;}#sk-container-id-4 div.sk-estimator:hover label.sk-toggleable__label-arrow:before {color: black;}#sk-container-id-4 div.sk-toggleable__content {max-height: 0;max-width: 0;overflow: hidden;text-align: left;background-color: #f0f8ff;}#sk-container-id-4 div.sk-toggleable__content pre {margin: 0.2em;color: black;border-radius: 0.25em;background-color: #f0f8ff;}#sk-container-id-4 input.sk-toggleable__control:checked~div.sk-toggleable__content {max-height: 200px;max-width: 100%;overflow: auto;}#sk-container-id-4 input.sk-toggleable__control:checked~label.sk-toggleable__label-arrow:before {content: \"▾\";}#sk-container-id-4 div.sk-estimator input.sk-toggleable__control:checked~label.sk-toggleable__label {background-color: #d4ebff;}#sk-container-id-4 div.sk-label input.sk-toggleable__control:checked~label.sk-toggleable__label {background-color: #d4ebff;}#sk-container-id-4 input.sk-hidden--visually {border: 0;clip: rect(1px 1px 1px 1px);clip: rect(1px, 1px, 1px, 1px);height: 1px;margin: -1px;overflow: hidden;padding: 0;position: absolute;width: 1px;}#sk-container-id-4 div.sk-estimator {font-family: monospace;background-color: #f0f8ff;border: 1px dotted black;border-radius: 0.25em;box-sizing: border-box;margin-bottom: 0.5em;}#sk-container-id-4 div.sk-estimator:hover {background-color: #d4ebff;}#sk-container-id-4 div.sk-parallel-item::after {content: \"\";width: 100%;border-bottom: 1px solid gray;flex-grow: 1;}#sk-container-id-4 div.sk-label:hover label.sk-toggleable__label {background-color: #d4ebff;}#sk-container-id-4 div.sk-serial::before {content: \"\";position: absolute;border-left: 1px solid gray;box-sizing: border-box;top: 0;bottom: 0;left: 50%;z-index: 0;}#sk-container-id-4 div.sk-serial {display: flex;flex-direction: column;align-items: center;background-color: white;padding-right: 0.2em;padding-left: 0.2em;position: relative;}#sk-container-id-4 div.sk-item {position: relative;z-index: 1;}#sk-container-id-4 div.sk-parallel {display: flex;align-items: stretch;justify-content: center;background-color: white;position: relative;}#sk-container-id-4 div.sk-item::before, #sk-container-id-4 div.sk-parallel-item::before {content: \"\";position: absolute;border-left: 1px solid gray;box-sizing: border-box;top: 0;bottom: 0;left: 50%;z-index: -1;}#sk-container-id-4 div.sk-parallel-item {display: flex;flex-direction: column;z-index: 1;position: relative;background-color: white;}#sk-container-id-4 div.sk-parallel-item:first-child::after {align-self: flex-end;width: 50%;}#sk-container-id-4 div.sk-parallel-item:last-child::after {align-self: flex-start;width: 50%;}#sk-container-id-4 div.sk-parallel-item:only-child::after {width: 0;}#sk-container-id-4 div.sk-dashed-wrapped {border: 1px dashed gray;margin: 0 0.4em 0.5em 0.4em;box-sizing: border-box;padding-bottom: 0.4em;background-color: white;}#sk-container-id-4 div.sk-label label {font-family: monospace;font-weight: bold;display: inline-block;line-height: 1.2em;}#sk-container-id-4 div.sk-label-container {text-align: center;}#sk-container-id-4 div.sk-container {/* jupyter's `normalize.less` sets `[hidden] { display: none; }` but bootstrap.min.css set `[hidden] { display: none !important; }` so we also need the `!important` here to be able to override the default hidden behavior on the sphinx rendered scikit-learn.org. See: https://github.com/scikit-learn/scikit-learn/issues/21755 */display: inline-block !important;position: relative;}#sk-container-id-4 div.sk-text-repr-fallback {display: none;}</style><div id=\"sk-container-id-4\" class=\"sk-top-container\"><div class=\"sk-text-repr-fallback\"><pre>RandomForestClassifier(criterion=&#x27;entropy&#x27;, random_state=0)</pre><b>In a Jupyter environment, please rerun this cell to show the HTML representation or trust the notebook. <br />On GitHub, the HTML representation is unable to render, please try loading this page with nbviewer.org.</b></div><div class=\"sk-container\" hidden><div class=\"sk-item\"><div class=\"sk-estimator sk-toggleable\"><input class=\"sk-toggleable__control sk-hidden--visually\" id=\"sk-estimator-id-4\" type=\"checkbox\" checked><label for=\"sk-estimator-id-4\" class=\"sk-toggleable__label sk-toggleable__label-arrow\">RandomForestClassifier</label><div class=\"sk-toggleable__content\"><pre>RandomForestClassifier(criterion=&#x27;entropy&#x27;, random_state=0)</pre></div></div></div></div></div>"
      ],
      "text/plain": [
       "RandomForestClassifier(criterion='entropy', random_state=0)"
      ]
     },
     "execution_count": 50,
     "metadata": {},
     "output_type": "execute_result"
    }
   ],
   "source": [
    "model1 = RandomForestClassifier(n_estimators=100, criterion='entropy', random_state=0)\n",
    "model1.fit(X_train, y_train)\n"
   ]
  },
  {
   "cell_type": "code",
   "execution_count": 51,
   "metadata": {},
   "outputs": [
    {
     "name": "stdout",
     "output_type": "stream",
     "text": [
      "              precision    recall  f1-score   support\n",
      "\n",
      "         Pos       0.91      0.80      0.85      5939\n",
      "         Neu       0.74      0.93      0.83      5988\n",
      "         Neg       0.89      0.76      0.82      5573\n",
      "\n",
      "    accuracy                           0.83     17500\n",
      "   macro avg       0.85      0.83      0.83     17500\n",
      "weighted avg       0.85      0.83      0.83     17500\n",
      "\n"
     ]
    }
   ],
   "source": [
    "y_pred = model1.predict(X_val)\n",
    "from sklearn.metrics import classification_report\n",
    "target_names = ['Pos', 'Neu', 'Neg']\n",
    "print(classification_report(y_val, y_pred, target_names=target_names))"
   ]
  },
  {
   "cell_type": "code",
   "execution_count": 49,
   "metadata": {},
   "outputs": [
    {
     "data": {
      "text/plain": [
       "label\n",
       "1    150\n",
       "0     60\n",
       "2     34\n",
       "Name: count, dtype: int64"
      ]
     },
     "execution_count": 49,
     "metadata": {},
     "output_type": "execute_result"
    }
   ],
   "source": [
    "data_test[\"label\"].value_counts()"
   ]
  },
  {
   "cell_type": "code",
   "execution_count": 52,
   "metadata": {},
   "outputs": [
    {
     "name": "stdout",
     "output_type": "stream",
     "text": [
      "              precision    recall  f1-score   support\n",
      "\n",
      "         Pos       0.29      0.47      0.36        60\n",
      "         Neu       0.74      0.35      0.47       150\n",
      "         Neg       0.13      0.29      0.18        34\n",
      "\n",
      "    accuracy                           0.37       244\n",
      "   macro avg       0.39      0.37      0.34       244\n",
      "weighted avg       0.55      0.37      0.40       244\n",
      "\n"
     ]
    }
   ],
   "source": [
    "y_hat = model1.predict(X_test)\n",
    "from sklearn.metrics import classification_report\n",
    "target_names = ['Pos', 'Neu', 'Neg']\n",
    "print(classification_report(y_test, y_hat, target_names=target_names))"
   ]
  },
  {
   "cell_type": "code",
   "execution_count": 41,
   "metadata": {},
   "outputs": [
    {
     "data": {
      "image/png": "[encoded data removed]",
      "text/plain": [
       "<Figure size 1400x1000 with 2 Axes>"
      ]
     },
     "metadata": {},
     "output_type": "display_data"
    }
   ],
   "source": [
    "from sklearn.metrics import confusion_matrix\n",
    "import matplotlib.pyplot as plt\n",
    "import seaborn as sns\n",
    "conf_matrix = confusion_matrix(y_test, y_hat)\n",
    "\n",
    "# Display the confusion matrix with different colors for each class\n",
    "plt.figure(figsize=(14, 10))\n",
    "sns.heatmap(conf_matrix, annot=True, fmt='d', cmap='viridis', square=True)\n",
    "plt.title('Confusion Matrix')\n",
    "plt.xlabel('Predicted')\n",
    "plt.ylabel('True')\n",
    "plt.show()"
   ]
  },
  {
   "cell_type": "markdown",
   "metadata": {},
   "source": [
    "### Mô hình XgBoot"
   ]
  }
 ],
 "metadata": {
  "kernelspec": {
   "display_name": "Python 3",
   "language": "python",
   "name": "python3"
  },
  "language_info": {
   "codemirror_mode": {
    "name": "ipython",
    "version": 3
   },
   "file_extension": ".py",
   "mimetype": "text/x-python",
   "name": "python",
   "nbconvert_exporter": "python",
   "pygments_lexer": "ipython3",
   "version": "3.8.10"
  }
 },
 "nbformat": 4,
 "nbformat_minor": 2
}
